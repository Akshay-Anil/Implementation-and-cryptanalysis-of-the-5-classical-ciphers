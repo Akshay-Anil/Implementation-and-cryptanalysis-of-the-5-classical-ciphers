{
 "cells": [
  {
   "cell_type": "code",
   "execution_count": 13,
   "metadata": {},
   "outputs": [
    {
     "name": "stdout",
     "output_type": "stream",
     "text": [
      "Enter your message: GABOGP\n",
      "E for Encrypt, D for Decrypt: D\n",
      "Enter 26 ALPHA key (leave blank for random key): GSWXRUIOKQAFJMCTLYBNVZHDPE\n",
      "Using key: GSWXRUIOKQAFJMCTLYBNVZHDPE\n",
      "Result: AKSHAY\n"
     ]
    }
   ],
   "source": [
    "import random, sys\n",
    "\n",
    "LETTERS = 'ABCDEFGHIJKLMNOPQRSTUVWXYZ'\n",
    "def main():\n",
    "    message = ''\n",
    "    message = input(\"Enter your message: \")\n",
    "    mode = input(\"E for Encrypt, D for Decrypt: \")\n",
    "    key = ''\n",
    "   \n",
    "    while checkKey(key) is False:\n",
    "        key = input(\"Enter 26 ALPHA key (leave blank for random key): \")\n",
    "        if key == '':\n",
    "            key = getRandomKey()\n",
    "        if checkKey(key) is False:\n",
    "            print('There is an error in the key or symbol set.')\n",
    "    translated = translateMessage(message, key, mode)\n",
    "    print('Using key: %s' % (key))\n",
    "   \n",
    "    \n",
    "    print('Result: ' + translated)\n",
    "\n",
    "# Store the key into list, sort it, convert back, compare to alphabet.\n",
    "def checkKey(key):\n",
    "    keyString = ''.join(sorted(list(key)))\n",
    "    return keyString == LETTERS\n",
    "def translateMessage(message, key, mode):\n",
    "    translated = ''\n",
    "    charsA = LETTERS\n",
    "    charsB = key\n",
    "   \n",
    "   # If decrypt mode is detected, swap A and B\n",
    "    if mode == 'D':\n",
    "        charsA, charsB = charsB, charsA\n",
    "    for symbol in message:\n",
    "        if symbol.upper() in charsA:\n",
    "            symIndex = charsA.find(symbol.upper())\n",
    "            if symbol.isupper():\n",
    "                translated += charsB[symIndex].upper()\n",
    "            else:\n",
    "                translated += charsB[symIndex].lower()\n",
    "        else:\n",
    "            translated += symbol\n",
    "    return translated\n",
    "def getRandomKey():\n",
    "    randomList = list(LETTERS)\n",
    "    random.shuffle(randomList)\n",
    "    return ''.join(randomList)\n",
    "if __name__ == '__main__':\n",
    "    main()"
   ]
  },
  {
   "cell_type": "code",
   "execution_count": null,
   "metadata": {},
   "outputs": [],
   "source": []
  }
 ],
 "metadata": {
  "kernelspec": {
   "display_name": "Python 3",
   "language": "python",
   "name": "python3"
  },
  "language_info": {
   "codemirror_mode": {
    "name": "ipython",
    "version": 3
   },
   "file_extension": ".py",
   "mimetype": "text/x-python",
   "name": "python",
   "nbconvert_exporter": "python",
   "pygments_lexer": "ipython3",
   "version": "3.7.3"
  }
 },
 "nbformat": 4,
 "nbformat_minor": 2
}
