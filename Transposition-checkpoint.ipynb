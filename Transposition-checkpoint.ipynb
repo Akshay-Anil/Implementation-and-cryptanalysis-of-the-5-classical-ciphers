{
 "cells": [
  {
   "cell_type": "code",
   "execution_count": 8,
   "metadata": {},
   "outputs": [
    {
     "name": "stdout",
     "output_type": "stream",
     "text": [
      "Enter the messageaao kkymbs eahcsc\n",
      "Enter the Key:4\n",
      "1.Encryption\n",
      "2.Decryption\n",
      "Enter the choice:2\n",
      "Decrypted message is \n",
      "akshay comes back\n"
     ]
    }
   ],
   "source": [
    "import math\n",
    "def encryptMessage(key, message):\n",
    "    ciphertext = [''] * key\n",
    "   \n",
    "    for col in range(key):\n",
    "        position = col\n",
    "        while position < len(message):\n",
    "            ciphertext[col] += message[position]\n",
    "            position += key\n",
    "    return ''.join(ciphertext) #Cipher text\n",
    "\n",
    "def decryptMessage(key, message):\n",
    "    numOfColumns = math.ceil(len(message) / key)\n",
    "    numOfRows = key\n",
    "    numOfShadedBoxes = (numOfColumns * numOfRows) - len(message)\n",
    "    plaintext = [''] * numOfColumns\n",
    "    col = 0\n",
    "    row = 0\n",
    "   \n",
    "    for symbol in message:\n",
    "        plaintext[col] += symbol\n",
    "        col += 1\n",
    "        if (col == numOfColumns) or (col == numOfColumns - 1 and row >= numOfRows - numOfShadedBoxes):\n",
    "            col = 0 \n",
    "            row += 1 \n",
    "    return ''.join(plaintext)\n",
    "\n",
    "def main():\n",
    "    myMessage = input(\"Enter the message\")\n",
    "  \n",
    "    myKey = int(input(\"Enter the Key:\"))\n",
    "  \n",
    "    ch=int(input(\"1.Encryption\\n2.Decryption\\nEnter the choice:\"))\n",
    "    if ch == 1:\n",
    "        ciphertext = encryptMessage(myKey, myMessage)\n",
    "        print(\"Cipher Text is\")\n",
    "        print(ciphertext)\n",
    "    elif ch == 2:\n",
    "        print(\"Decrypted message is \")\n",
    "        print(decryptMessage(myKey,myMessage))\n",
    "    else:\n",
    "        print(\"Wrong input\")\n",
    "\n",
    "    \n",
    "    \n",
    "if __name__ == '__main__':\n",
    "    main()"
   ]
  },
  {
   "cell_type": "code",
   "execution_count": null,
   "metadata": {},
   "outputs": [],
   "source": []
  },
  {
   "cell_type": "code",
   "execution_count": null,
   "metadata": {},
   "outputs": [],
   "source": []
  }
 ],
 "metadata": {
  "kernelspec": {
   "display_name": "Python 3",
   "language": "python",
   "name": "python3"
  },
  "language_info": {
   "codemirror_mode": {
    "name": "ipython",
    "version": 3
   },
   "file_extension": ".py",
   "mimetype": "text/x-python",
   "name": "python",
   "nbconvert_exporter": "python",
   "pygments_lexer": "ipython3",
   "version": "3.7.3"
  }
 },
 "nbformat": 4,
 "nbformat_minor": 2
}
