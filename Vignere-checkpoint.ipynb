{
 "cells": [
  {
   "cell_type": "code",
   "execution_count": 9,
   "metadata": {},
   "outputs": [
    {
     "name": "stdout",
     "output_type": "stream",
     "text": [
      "E to encrypt D to decrypt: E\n",
      "Eed message:\n",
      "ITphhirsihsjbzarsircqilmoplteumdemntpabthinondonfUVhigcnmeqrdeCxixpghder\n"
     ]
    }
   ],
   "source": [
    "\n",
    "LETTERS = 'ABCDEFGHIJKLMNOPQRSTUVWXYZ'\n",
    "def main():\n",
    "    myMessage = \"This is basic implementation of Vignere Cipher\"\n",
    "    myKey = 'PIZZA'\n",
    "    myMode = input(\"E to encrypt D to decrypt: \")\n",
    "   \n",
    "    if myMode == 'E'or 'e':\n",
    "        translated = encryptMessage(myKey, myMessage)\n",
    "    elif myMode == 'd' or 'D': \n",
    "        translated = decryptMessage(myKey, myMessage)\n",
    "   \n",
    "    print('%sed message:' % (myMode.title()))\n",
    "    print(translated)\n",
    "    \n",
    "def encryptMessage(key, message):\n",
    "    return translateMessage(key, message, 'encrypt')\n",
    "def decryptMessage(key, message):\n",
    "    return translateMessage(key, message, 'decrypt')\n",
    "def translateMessage(key, message, mode):\n",
    "    translated = [] # stores the encrypted/decrypted message string\n",
    "    keyIndex = 0\n",
    "    key = key.upper()\n",
    "   \n",
    "    for symbol in message:\n",
    "        num = LETTERS.find(symbol.upper())\n",
    "        if num != -1:\n",
    "            if mode == 'encrypt':\n",
    "                num += LETTERS.find(key[keyIndex])\n",
    "            elif mode == 'decrypt':\n",
    "                num -= LETTERS.find(key[keyIndex])\n",
    "            num %= len(LETTERS)\n",
    "            \n",
    "            if symbol.isupper():\n",
    "                translated.append(LETTERS[num])\n",
    "            elif symbol.islower():\n",
    "                translated.append(LETTERS[num].lower())\n",
    "            keyIndex += 1\n",
    "            \n",
    "            if keyIndex == len(key):\n",
    "                keyIndex = 0\n",
    "            else:\n",
    "                translated.append(symbol)\n",
    "    return ''.join(translated)\n",
    "if __name__ == '__main__':\n",
    "    main()"
   ]
  },
  {
   "cell_type": "code",
   "execution_count": null,
   "metadata": {},
   "outputs": [],
   "source": []
  }
 ],
 "metadata": {
  "kernelspec": {
   "display_name": "Python 3",
   "language": "python",
   "name": "python3"
  },
  "language_info": {
   "codemirror_mode": {
    "name": "ipython",
    "version": 3
   },
   "file_extension": ".py",
   "mimetype": "text/x-python",
   "name": "python",
   "nbconvert_exporter": "python",
   "pygments_lexer": "ipython3",
   "version": "3.7.3"
  }
 },
 "nbformat": 4,
 "nbformat_minor": 2
}
