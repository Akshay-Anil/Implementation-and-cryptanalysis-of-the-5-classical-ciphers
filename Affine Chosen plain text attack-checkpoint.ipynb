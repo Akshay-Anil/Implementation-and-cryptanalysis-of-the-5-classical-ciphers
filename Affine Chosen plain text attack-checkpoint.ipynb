{
 "cells": [
  {
   "cell_type": "code",
   "execution_count": 10,
   "metadata": {},
   "outputs": [
    {
     "name": "stdout",
     "output_type": "stream",
     "text": [
      "Enter a ciphertxt: iguriy\n",
      "Enter a reference: akshay\n",
      "iguriy\n",
      "akshay\n",
      "(5, 8)\n"
     ]
    },
    {
     "name": "stderr",
     "output_type": "stream",
     "text": [
      "/opt/sagemath-9.1/local/lib/python3.7/site-packages/ipykernel_launcher.py:48: DeprecationWarning: fractions.gcd() is deprecated. Use math.gcd() instead.\n"
     ]
    }
   ],
   "source": [
    "import fractions\n",
    "\n",
    "def egcd(a, b): \n",
    "    x,y, u,v = 0,1, 1,0\n",
    "    while a != 0: \n",
    "        q, r = b//a, b%a \n",
    "        m, n = x-u*q, y-v*q \n",
    "        b,a, x,y, u,v = a,r, u,v, m,n \n",
    "    gcd = b \n",
    "    return gcd, x, y \n",
    "def modinv(a, m): \n",
    "    gcd, x, y = egcd(a, m) \n",
    "    if gcd != 1: \n",
    "        return None # modular inverse does not exist \n",
    "    else: \n",
    "        return x % m \n",
    "\n",
    "def encrypt(text, key1,key2): \n",
    "    translated=''\n",
    "    for t in text:\n",
    "        if t.isupper():\n",
    "            translated+=chr((( key1*(ord(t) - ord('A')) + key2 ) % 26) + ord('A'))\n",
    "        elif t.islower():\n",
    "            translated+=chr((( key1*(ord(t) - ord('a')) + key2 ) % 26) + ord('a'))\n",
    "\n",
    "        else:\n",
    "            translated+=t\n",
    "    return translated     \n",
    "    \n",
    "    \n",
    "     \n",
    "def decrypt(cipher, key1,key2): \n",
    "    translated=''\n",
    "    for c in cipher:\n",
    "        if c.isupper():\n",
    "            translated+=chr((( modinv(key1, 26)*(ord(c) - ord('A') - key2)) % 26) + ord('A')) \n",
    "        elif c.islower():\n",
    "            translated+=chr((( modinv(key1, 26)*(ord(c) - ord('a') - key2)) % 26) + ord('a')) \n",
    "        else:\n",
    "            translated+=c\n",
    "    return translated  \n",
    "\n",
    "\n",
    "def bruteforce():\n",
    "    message = input(\"Enter a ciphertxt: \")\n",
    "    reference = input(\"Enter a reference: \")\n",
    "    possible_a = [a for a in range(0, 26) \n",
    "                    if fractions.gcd(a, 26) == 1]\n",
    "    for a in possible_a:\n",
    "        for b in range(0, 26):\n",
    "            if encrypt(reference,a, b) == message[0:len(reference)]:\n",
    "                print(encrypt(reference,a,b))\n",
    "                print(decrypt(message,a,b))\n",
    "                return (a, b)\n",
    "\n",
    "def main():\n",
    "    print(bruteforce())\n",
    "                \n",
    "if __name__ == '__main__': \n",
    "    main()                \n"
   ]
  },
  {
   "cell_type": "code",
   "execution_count": null,
   "metadata": {},
   "outputs": [],
   "source": []
  }
 ],
 "metadata": {
  "kernelspec": {
   "display_name": "Python 3",
   "language": "python",
   "name": "python3"
  },
  "language_info": {
   "codemirror_mode": {
    "name": "ipython",
    "version": 3
   },
   "file_extension": ".py",
   "mimetype": "text/x-python",
   "name": "python",
   "nbconvert_exporter": "python",
   "pygments_lexer": "ipython3",
   "version": "3.7.3"
  }
 },
 "nbformat": 4,
 "nbformat_minor": 2
}
