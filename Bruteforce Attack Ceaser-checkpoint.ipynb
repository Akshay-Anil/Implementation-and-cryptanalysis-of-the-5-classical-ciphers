{
 "cells": [
  {
   "cell_type": "code",
   "execution_count": 7,
   "metadata": {},
   "outputs": [],
   "source": [
    "def cipher_decrypt(ciphertext, key):\n",
    "\n",
    "    decrypted = \"\"\n",
    "\n",
    "    for c in ciphertext:\n",
    "\n",
    "        if c.isupper(): \n",
    "\n",
    "            c_index = ord(c) - ord('A')\n",
    "\n",
    "            # shift the current character to left by key positions to get its original position\n",
    "            c_og_pos = (c_index - key) % 26 + ord('A')\n",
    "\n",
    "            c_og = chr(c_og_pos)\n",
    "\n",
    "            decrypted += c_og\n",
    "\n",
    "        elif c.islower(): \n",
    "\n",
    "            c_index = ord(c) - ord('a') \n",
    "\n",
    "            c_og_pos = (c_index - key) % 26 + ord('a')\n",
    "\n",
    "            c_og = chr(c_og_pos)\n",
    "\n",
    "            decrypted += c_og\n",
    "\n",
    "        elif c.isdigit():\n",
    "\n",
    "            # if it's a number,shift its actual value \n",
    "            c_og = (int(c) - key) % 10\n",
    "\n",
    "            decrypted += str(c_og)\n",
    "\n",
    "        else:\n",
    "\n",
    "            # if its neither alphabetical nor a number, just leave it like that\n",
    "            decrypted += c\n",
    "\n",
    "    return decrypted\n",
    "\n"
   ]
  },
  {
   "cell_type": "code",
   "execution_count": 9,
   "metadata": {},
   "outputs": [
    {
     "name": "stdout",
     "output_type": "stream",
     "text": [
      "Enter the cipher text: Sr xli gsyrx sj 7, 6, 5 - Ezirkivw Ewwiqfpi!\n",
      "For key 0, decrypted text: Sr xli gsyrx sj 7, 6, 5 - Ezirkivw Ewwiqfpi!\n",
      "For key 1, decrypted text: Rq wkh frxqw ri 6, 5, 4 - Dyhqjhuv Dvvhpeoh!\n",
      "For key 2, decrypted text: Qp vjg eqwpv qh 5, 4, 3 - Cxgpigtu Cuugodng!\n",
      "For key 3, decrypted text: Po uif dpvou pg 4, 3, 2 - Bwfohfst Bttfncmf!\n",
      "For key 4, decrypted text: On the count of 3, 2, 1 - Avengers Assemble!\n",
      "For key 5, decrypted text: Nm sgd bntms ne 2, 1, 0 - Zudmfdqr Zrrdlakd!\n",
      "For key 6, decrypted text: Ml rfc amslr md 1, 0, 9 - Ytclecpq Yqqckzjc!\n",
      "For key 7, decrypted text: Lk qeb zlrkq lc 0, 9, 8 - Xsbkdbop Xppbjyib!\n",
      "For key 8, decrypted text: Kj pda ykqjp kb 9, 8, 7 - Wrajcano Wooaixha!\n",
      "For key 9, decrypted text: Ji ocz xjpio ja 8, 7, 6 - Vqzibzmn Vnnzhwgz!\n",
      "For key 10, decrypted text: Ih nby wiohn iz 7, 6, 5 - Upyhaylm Ummygvfy!\n",
      "For key 11, decrypted text: Hg max vhngm hy 6, 5, 4 - Toxgzxkl Tllxfuex!\n",
      "For key 12, decrypted text: Gf lzw ugmfl gx 5, 4, 3 - Snwfywjk Skkwetdw!\n",
      "For key 13, decrypted text: Fe kyv tflek fw 4, 3, 2 - Rmvexvij Rjjvdscv!\n",
      "For key 14, decrypted text: Ed jxu sekdj ev 3, 2, 1 - Qludwuhi Qiiucrbu!\n",
      "For key 15, decrypted text: Dc iwt rdjci du 2, 1, 0 - Pktcvtgh Phhtbqat!\n",
      "For key 16, decrypted text: Cb hvs qcibh ct 1, 0, 9 - Ojsbusfg Oggsapzs!\n",
      "For key 17, decrypted text: Ba gur pbhag bs 0, 9, 8 - Niratref Nffrzoyr!\n",
      "For key 18, decrypted text: Az ftq oagzf ar 9, 8, 7 - Mhqzsqde Meeqynxq!\n",
      "For key 19, decrypted text: Zy esp nzfye zq 8, 7, 6 - Lgpyrpcd Lddpxmwp!\n",
      "For key 20, decrypted text: Yx dro myexd yp 7, 6, 5 - Kfoxqobc Kccowlvo!\n",
      "For key 21, decrypted text: Xw cqn lxdwc xo 6, 5, 4 - Jenwpnab Jbbnvkun!\n",
      "For key 22, decrypted text: Wv bpm kwcvb wn 5, 4, 3 - Idmvomza Iaamujtm!\n",
      "For key 23, decrypted text: Vu aol jvbua vm 4, 3, 2 - Hclunlyz Hzzltisl!\n",
      "For key 24, decrypted text: Ut znk iuatz ul 3, 2, 1 - Gbktmkxy Gyykshrk!\n",
      "For key 25, decrypted text: Ts ymj htzsy tk 2, 1, 0 - Fajsljwx Fxxjrgqj!\n"
     ]
    }
   ],
   "source": [
    "def main():\n",
    "    ciphertxt=input(\"Enter the cipher text: \")\n",
    "    \n",
    "    for i in range(0,26):\n",
    "        plain_text = cipher_decrypt(ciphertxt, i)\n",
    "        print(\"For key {}, decrypted text: {}\".format(i, plain_text))\n",
    "        \n",
    "if __name__ == \"__main__\": \n",
    "    main()"
   ]
  },
  {
   "cell_type": "code",
   "execution_count": null,
   "metadata": {},
   "outputs": [],
   "source": []
  }
 ],
 "metadata": {
  "kernelspec": {
   "display_name": "Python 3",
   "language": "python",
   "name": "python3"
  },
  "language_info": {
   "codemirror_mode": {
    "name": "ipython",
    "version": 3
   },
   "file_extension": ".py",
   "mimetype": "text/x-python",
   "name": "python",
   "nbconvert_exporter": "python",
   "pygments_lexer": "ipython3",
   "version": "3.7.3"
  }
 },
 "nbformat": 4,
 "nbformat_minor": 2
}
